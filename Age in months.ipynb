{
 "cells": [
  {
   "cell_type": "code",
   "execution_count": 1,
   "id": "4a09d364-9a86-47dc-992f-37ccca1a0091",
   "metadata": {},
   "outputs": [
    {
     "name": "stdout",
     "output_type": "stream",
     "text": [
      "Age in months: 252\n"
     ]
    }
   ],
   "source": [
    "age_years = 21\n",
    "age_months = age_years * 12\n",
    "print(\"Age in months:\", age_months)"
   ]
  },
  {
   "cell_type": "code",
   "execution_count": null,
   "id": "0a91153a-c4b1-49c5-a824-865a9916a46f",
   "metadata": {},
   "outputs": [],
   "source": []
  }
 ],
 "metadata": {
  "kernelspec": {
   "display_name": "Python 3 (ipykernel)",
   "language": "python",
   "name": "python3"
  },
  "language_info": {
   "codemirror_mode": {
    "name": "ipython",
    "version": 3
   },
   "file_extension": ".py",
   "mimetype": "text/x-python",
   "name": "python",
   "nbconvert_exporter": "python",
   "pygments_lexer": "ipython3",
   "version": "3.12.7"
  }
 },
 "nbformat": 4,
 "nbformat_minor": 5
}
