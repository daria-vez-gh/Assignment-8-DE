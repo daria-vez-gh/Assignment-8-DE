{
 "cells": [
  {
   "cell_type": "code",
   "execution_count": 6,
   "id": "bc141376-69c3-4c98-a258-db8a0c90ede4",
   "metadata": {},
   "outputs": [
    {
     "name": "stdin",
     "output_type": "stream",
     "text": [
      "Enter first number:  10\n",
      "Enter second number:  12\n"
     ]
    },
    {
     "name": "stdout",
     "output_type": "stream",
     "text": [
      "Sum of the numbers is:1012\n"
     ]
    }
   ],
   "source": [
    "num1 = input(\"Enter first number: \");\n",
    "num2 = input(\"Enter second number: \");\n",
    "sum = num1 + num2;\n",
    "print(f\"Sum of the numbers is:{sum}\");"
   ]
  },
  {
   "cell_type": "code",
   "execution_count": null,
   "id": "cbd4d406-efb4-45da-9a88-588c09fb997f",
   "metadata": {},
   "outputs": [],
   "source": []
  }
 ],
 "metadata": {
  "kernelspec": {
   "display_name": "Python 3 (ipykernel)",
   "language": "python",
   "name": "python3"
  },
  "language_info": {
   "codemirror_mode": {
    "name": "ipython",
    "version": 3
   },
   "file_extension": ".py",
   "mimetype": "text/x-python",
   "name": "python",
   "nbconvert_exporter": "python",
   "pygments_lexer": "ipython3",
   "version": "3.12.7"
  }
 },
 "nbformat": 4,
 "nbformat_minor": 5
}
